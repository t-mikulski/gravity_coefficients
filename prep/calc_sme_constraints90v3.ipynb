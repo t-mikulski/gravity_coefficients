{
 "cells": [
  {
   "cell_type": "markdown",
   "metadata": {},
   "source": [
    "# Code Deriving speed of Gravity and SME constraints\n",
    "\n",
    "Author: Jay Tasson (jtasson@carleton.edu)\n",
    "\n",
    "Date: version written on 171005 (yymmdd)\n",
    "\n",
    "The code derives the speed of gravity constraints and constraints on the coefficients for Lorentz violation in the Standard-Model Extension that result from the 170817 GW-GRB observation.  The results appear in the [GW+GRB connection paper] : https://dcc.ligo.org/LIGO-P1700308.  Input values are the distance to the event and the observed time difference between the peak of the gravitational wave signal and the GRB observation, which appear in the [GW+GRB connection paper] and in addition for the SME constraints, the sky position of the event from [Coulter etal, MMA paper].\n",
    "\n",
    "The references are:\n",
    "<br>\n",
    "[GW+GRB connection paper] : https://dcc.ligo.org/LIGO-P1700308\n",
    "<br>\n",
    "[LVC BNS discovery paper] : PRL, 119, 161101 (2017)  https://dcc.ligo.org/LIGO-P170817\n",
    "<br>\n",
    "[Coulter etal, MMA paper] : https://dcc.ligo.org/DocDB/0145/P1700294/002/multi-messenger-observations-v2.pdf page 5\n",
    "[notes] : https://dcc.ligo.org/DocDB/0144/P1700245/004/notes.pdf\n"
   ]
  },
  {
   "cell_type": "code",
   "execution_count": 1,
   "metadata": {},
   "outputs": [
    {
     "name": "stdout",
     "output_type": "stream",
     "text": [
      "2.7.14 |Anaconda, Inc.| (default, Dec  7 2017, 17:05:42) \n",
      "[GCC 7.2.0]\n"
     ]
    }
   ],
   "source": [
    "import sys\n",
    "print(sys.version)"
   ]
  },
  {
   "cell_type": "code",
   "execution_count": 2,
   "metadata": {},
   "outputs": [],
   "source": [
    "#from lal import PC_SI, C_SI\n",
    "import numpy as np\n",
    "from scipy.special import sph_harm\n",
    "import texttable as tt\n",
    "\n",
    "PC_SI = 3.086e16 #parsec to meters conversion\n",
    "C_SI = 299792458 #SI speed of lightdt"
   ]
  },
  {
   "cell_type": "code",
   "execution_count": 3,
   "metadata": {},
   "outputs": [],
   "source": [
    "# time delay (in sec) between GW and gamma-ray signals at source according to astrophysical models. \n",
    "# first two entries are from conservative models; last two entries are from more exotic models \n",
    "dt_e_list = [0,10,-100,1000]       #[GW+GRB connection paper]\n",
    "\n",
    "# observed parameters \n",
    "dt_o = 1.74        # observed time delay between GW and gamma-ray signal (sec) [GW+GRB connection paper]\n",
    "# paper originally quoted 1.738 pm 0.048, this introduces no change\n",
    "dt_error = [0.05,-0.05,0.05,-0.05]    # observed time error (sec) [GW+GRB connection paper]\n",
    "dL = 26*1e6*PC_SI #90p lower luminosity dist (meters) [GW+GRB connection paper], [LVC BNS paper]\n",
    "\n",
    "# existing upper limit on the isotrpic coefficient describing the difference \n",
    "# in Loretz violation in gravity and EM sectors. See, Table 1 of LIGO-P1700245-v3\n",
    "k00_ub = 8e-5 "
   ]
  },
  {
   "cell_type": "code",
   "execution_count": 4,
   "metadata": {},
   "outputs": [
    {
     "name": "stdout",
     "output_type": "stream",
     "text": [
      "| dt_e (s) \t| dT (s) \t| dv  \t\t| k00_imprvmnt \t|\n",
      "| 0.0e+00 \t| 1.8e+00 \t| 6.7e-16 \t| 3e+10 \t|\n",
      "| 1.0e+01 \t| -8.3e+00 \t| -3.1e-15 \t| -7e+09 \t|\n",
      "| -1.0e+02 \t| 1.0e+02 \t| 3.8e-14 \t| 6e+08 \t|\n",
      "| 1.0e+03 \t| -1.0e+03 \t| -3.7e-13 \t| -6e+07 \t|\n"
     ]
    }
   ],
   "source": [
    "print('| dt_e (s) \\t| dT (s) \\t| dv  \\t\\t| k00_imprvmnt \\t|')\n",
    "\n",
    "# calculate the fractional difference (1-c_g/c) between the speed of GWs c_g and speed of light c\n",
    "# for various assumed time delays at emission  \n",
    "vlist = []\n",
    "dverr = []\n",
    "toterr = []\n",
    "for j in range(0,len(dt_e_list)): \n",
    "        \n",
    "    # difference between observed time delay and assumed time delay at emission\n",
    "    dT = dt_o+dt_error[j]-dt_e_list[j]   \n",
    "        \n",
    "    # fractional difference between speed of GWs and light \n",
    "    dv = C_SI*dT/dL \n",
    "    vlist=np.append(vlist,dv)\n",
    "    \n",
    "    # calculate the improvement in the isotropic (j=m=0) coefficient describing the difference \n",
    "    # in Loretz violation in gravity and EM sectors. See, eq.(1) of LIGO-P1700245-v3\n",
    "    k00 = np.sqrt(4*np.pi)*dv\n",
    "    k00_improvement = k00_ub/k00 \n",
    "        \n",
    "    print ('| %.1e \\t| %.1e \\t| %.1e \\t| %.0e \\t|' %(dt_e_list[j], dT, dv, k00_improvement))\n"
   ]
  },
  {
   "cell_type": "code",
   "execution_count": 5,
   "metadata": {},
   "outputs": [
    {
     "name": "stdout",
     "output_type": "stream",
     "text": [
      "+--------------+----------+--------------+\n",
      "| lowerx10^-14 |    s     | upperx10^-15 |\n",
      "+==============+==========+==============+\n",
      "| -2.201       | s_00     | 4.742        |\n",
      "+--------------+----------+--------------+\n",
      "| -3.123       | s_10     | 6.727        |\n",
      "+--------------+----------+--------------+\n",
      "| -1.020       | -Re s_11 | 2.196        |\n",
      "+--------------+----------+--------------+\n",
      "| -3.752       | Im s11   | 8.083        |\n",
      "+--------------+----------+--------------+\n",
      "| -3.913       | -s_20    | 8.430        |\n",
      "+--------------+----------+--------------+\n",
      "| -1.120       | -Re s_21 | 2.413        |\n",
      "+--------------+----------+--------------+\n",
      "| -4.123       | Im s_21  | 8.882        |\n",
      "+--------------+----------+--------------+\n",
      "| -1.117       | Re s_22  | 2.406        |\n",
      "+--------------+----------+--------------+\n",
      "| -1.904       | -Im s_22 | 4.101        |\n",
      "+--------------+----------+--------------+\n"
     ]
    }
   ],
   "source": [
    "# note form of spherical harmonics: sph_harm(m,j,ph,th)\n",
    "\n",
    "# sky position from optical as reported in [Coulter etal, MMA paper]\n",
    "rah = 13     #RA hours\n",
    "ram = 9      #RA min\n",
    "ras = 48.085 #RA sec\n",
    "\n",
    "decd = -23     #dec degrees\n",
    "decm = -22     #dec min\n",
    "decs = -53.343 #dec sec\n",
    "\n",
    "# convert to radians for spherical harmonics\n",
    "ph = (rah+ram/60+ras/3600)*360/24*np.pi/180\n",
    "th = (90-(decd+decm/60+decs/3600))*np.pi/180\n",
    "\n",
    "# arrays to store bounds\n",
    "upper=[]\n",
    "lower=[]\n",
    "\n",
    "d=4 #mass dimension\n",
    "\n",
    "# loop over j and m of spherical harmonics\n",
    "# This is based on the equation relating the fractional deviation in speeds \n",
    "# to the coefficients for Lorentz violation from [GW+GRB connection paper] \n",
    "# and elaborated on in the [notes]\n",
    "for j in range(0,d-1):\n",
    "    m=0 # for m=0, get both bounds on s with error\n",
    "    upper=np.append(upper,vlist[0]/((-1)**j*.5*np.real(sph_harm(m,j,ph,th))))\n",
    "    lower=np.append(lower,vlist[1]/((-1)**j*.5*np.real(sph_harm(m,j,ph,th))))\n",
    "    for m in range(1,j+1):\n",
    "        # for m>0, get both bounds on Im s and Re s with error\n",
    "        upper=np.append(upper,vlist[0]/((-1)**j*np.real(sph_harm(m,j,ph,th))))\n",
    "        lower=np.append(lower,vlist[1]/((-1)**j*np.real(sph_harm(m,j,ph,th))))\n",
    "        upper=np.append(upper,-vlist[0]/((-1)**j*np.imag(sph_harm(m,j,ph,th))))\n",
    "        lower=np.append(lower,-vlist[1]/((-1)**j*np.imag(sph_harm(m,j,ph,th))))\n",
    "    \n",
    "#adjust for table\n",
    "upper=abs(upper)/1e-15\n",
    "lower=-abs(lower)/1e-14\n",
    "s = ['s_00','s_10','-Re s_11','Im s11','-s_20','-Re s_21','Im s_21','Re s_22','-Im s_22']\n",
    "\n",
    "#create table\n",
    "tab = tt.Texttable()\n",
    "headings = ['lowerx10^-14','s','upperx10^-15']\n",
    "tab.header(headings)\n",
    "\n",
    "for row in zip(lower,s,upper):\n",
    "    tab.add_row(row)\n",
    "\n",
    "f=tab.draw()\n",
    "print(f)"
   ]
  },
  {
   "cell_type": "code",
   "execution_count": 6,
   "metadata": {},
   "outputs": [
    {
     "name": "stdout",
     "output_type": "stream",
     "text": [
      "[ 6.68812628e-16 -3.10493460e-15  3.80326466e-14 -3.73006891e-13]\n"
     ]
    }
   ],
   "source": [
    "print vlist"
   ]
  },
  {
   "cell_type": "code",
   "execution_count": null,
   "metadata": {},
   "outputs": [],
   "source": []
  }
 ],
 "metadata": {
  "anaconda-cloud": {},
  "kernelspec": {
   "display_name": "Python 2",
   "language": "python",
   "name": "python2"
  },
  "language_info": {
   "codemirror_mode": {
    "name": "ipython",
    "version": 2
   },
   "file_extension": ".py",
   "mimetype": "text/x-python",
   "name": "python",
   "nbconvert_exporter": "python",
   "pygments_lexer": "ipython2",
   "version": "2.7.14"
  }
 },
 "nbformat": 4,
 "nbformat_minor": 2
}
